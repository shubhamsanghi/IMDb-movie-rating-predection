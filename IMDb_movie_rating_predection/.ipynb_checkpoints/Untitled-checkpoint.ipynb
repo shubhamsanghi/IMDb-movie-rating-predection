{
 "cells": [
  {
   "cell_type": "markdown",
   "metadata": {},
   "source": [
    "# IMDb Movie Rating Prediction System\n"
   ]
  },
  {
   "cell_type": "code",
   "execution_count": 19,
   "metadata": {},
   "outputs": [],
   "source": [
    "#importing some basic libraries\n",
    "\n",
    "import pandas as pd\n",
    "import numpy as np\n",
    "import seaborn as sns\n",
    "import matplotlib.pyplot as plt"
   ]
  },
  {
   "cell_type": "markdown",
   "metadata": {},
   "source": [
    "# Collecting data with the help of web scraping\n",
    "\n",
    "Web scraping is the process of using bots to extract content and data from a website.\n",
    "Each page holds 100 movies"
   ]
  },
  {
   "cell_type": "code",
   "execution_count": 20,
   "metadata": {},
   "outputs": [],
   "source": [
    "#necessary libraries for web scraping\n",
    "\n",
    "from bs4 import BeautifulSoup\n",
    "from IPython.core.display import display, HTML\n",
    "import requests\n",
    "\n",
    "from helper_functions.imdb_big_scrape import get_movie_links\n",
    "# calling .py file for web scraping \n",
    "\n",
    "Number_of_pages = 20\n",
    "movie_links = get_movie_links(Number_of_pages)"
   ]
  },
  {
   "cell_type": "code",
   "execution_count": 21,
   "metadata": {},
   "outputs": [
    {
     "name": "stdout",
     "output_type": "stream",
     "text": [
      "The autoreload extension is already loaded. To reload it, use:\n",
      "  %reload_ext autoreload\n"
     ]
    }
   ],
   "source": [
    "import pickle\n",
    "%load_ext autoreload\n",
    "%autoreload 2\n",
    "from helper_functions.getting_info import get_movie_data\n",
    "\n",
    "\n",
    "count = 0\n",
    "movie_data_list = []\n",
    "for link in movie_links:\n",
    "    movie_data_list.append(get_movie_data(link))\n",
    "    count += 1\n",
    "    if count % 50 == 0:\n",
    "        with open('IMDb_top_2000s.pickle', 'wb') as to_write:\n",
    "            pickle.dump(movie_data_list, to_write)\n",
    "# Create list with all movies from movie links"
   ]
  },
  {
   "cell_type": "code",
   "execution_count": 22,
   "metadata": {},
   "outputs": [],
   "source": [
    "movie_page_info = pd.DataFrame(movie_data_list)\n",
    "# Turn data into a DataFrame for easy analysis"
   ]
  },
  {
   "cell_type": "code",
   "execution_count": 23,
   "metadata": {},
   "outputs": [],
   "source": [
    "# Uncomment if you'd like to use my exact data\n",
    "\n",
    "movies_8000 = pd.DataFrame(pd.read_pickle('data/IMDb_8000.pickle'))\n",
    "df1 = pd.DataFrame(pd.read_pickle('data/IMDb_top_movies.pickle'))\n",
    "df2 = pd.DataFrame(pd.read_pickle('data/IMDb_top_2000s.pickle'))\n",
    "\n",
    "# Reloaded pickled data after I reset the notebook\n",
    "# IMDB_8000 contains 8000 movies between 2015 and 2020\n",
    "# IMDb_top_movies supplements the data with top rated movies between 2010 and 2020\n",
    "# IMDB_top_2000s supplements more top movies in the 2000s"
   ]
  },
  {
   "cell_type": "code",
   "execution_count": 24,
   "metadata": {},
   "outputs": [],
   "source": [
    "movies_8100 = pd.concat([movies_8000,df1,df2])"
   ]
  },
  {
   "cell_type": "code",
   "execution_count": null,
   "metadata": {},
   "outputs": [],
   "source": []
  }
 ],
 "metadata": {
  "kernelspec": {
   "display_name": "Python 3",
   "language": "python",
   "name": "python3"
  },
  "language_info": {
   "codemirror_mode": {
    "name": "ipython",
    "version": 3
   },
   "file_extension": ".py",
   "mimetype": "text/x-python",
   "name": "python",
   "nbconvert_exporter": "python",
   "pygments_lexer": "ipython3",
   "version": "3.7.6"
  }
 },
 "nbformat": 4,
 "nbformat_minor": 4
}
